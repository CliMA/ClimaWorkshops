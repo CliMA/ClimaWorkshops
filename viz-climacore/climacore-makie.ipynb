{
 "cells": [
  {
   "cell_type": "markdown",
   "metadata": {},
   "source": [
    "## ClimaCoreMakie\n",
    "\n",
    "[Makie.jl](https://makie.juliaplots.org/stable/) is a data visualization ecosystem for the Julia programming language, with high performance and extensibility. \n",
    "\n",
    "Makie.jl can use several backends. Two backends of interest are: CairoMakie (for 2D plots) and GLMakie (for 3D plots)"
   ]
  },
  {
   "cell_type": "code",
   "execution_count": null,
   "metadata": {},
   "outputs": [],
   "source": [
    "using IntervalSets\n",
    "\n",
    "import ClimaCore\n",
    "import ClimaCoreMakie: ClimaCoreMakie, Makie\n",
    "\n",
    "using GLMakie"
   ]
  },
  {
   "cell_type": "markdown",
   "metadata": {},
   "source": [
    "### 2D non-hybrid plane"
   ]
  },
  {
   "cell_type": "code",
   "execution_count": null,
   "metadata": {},
   "outputs": [],
   "source": [
    "domain = ClimaCore.Domains.RectangleDomain(\n",
    "    ClimaCore.Geometry.XPoint(0) .. ClimaCore.Geometry.XPoint(2π),\n",
    "    ClimaCore.Geometry.YPoint(0) .. ClimaCore.Geometry.YPoint(2π),\n",
    "    x1periodic = true,\n",
    "    x2periodic = true,\n",
    ")\n",
    "\n",
    "n1, n2 = 2, 2\n",
    "Nq = 4\n",
    "mesh = ClimaCore.Meshes.RectilinearMesh(domain, n1, n2)\n",
    "grid_topology = ClimaCore.Topologies.Topology2D(mesh)\n",
    "quad = ClimaCore.Spaces.Quadratures.ClosedUniform{Nq}()\n",
    "space = ClimaCore.Spaces.SpectralElementSpace2D(grid_topology, quad)\n",
    "coords = ClimaCore.Fields.coordinate_field(space)\n",
    "\n",
    "sinxy = map(coords) do coord\n",
    "    cos(coord.x + coord.y)\n",
    "end\n",
    "\n",
    "# Let's plot this scalar-valued field\n",
    "plane_fig = ClimaCoreMakie.viz(sinxy)"
   ]
  },
  {
   "cell_type": "code",
   "execution_count": null,
   "metadata": {},
   "outputs": [],
   "source": [
    "# And let's save it\n",
    "plane_fig_filename = joinpath(\".\", \"Makie_2D_rectangle.png\")\n",
    "GLMakie.save(plane_fig_filename, plane_fig)"
   ]
  },
  {
   "cell_type": "markdown",
   "metadata": {},
   "source": [
    "### 2D sphere"
   ]
  },
  {
   "cell_type": "code",
   "execution_count": null,
   "metadata": {},
   "outputs": [],
   "source": [
    "R = 6.37122e6\n",
    "\n",
    "domain = ClimaCore.Domains.SphereDomain(R)\n",
    "mesh = ClimaCore.Meshes.EquiangularCubedSphere(domain, 6)\n",
    "grid_topology = ClimaCore.Topologies.Topology2D(mesh)\n",
    "quad = ClimaCore.Spaces.Quadratures.GLL{5}()\n",
    "space = ClimaCore.Spaces.SpectralElementSpace2D(grid_topology, quad)\n",
    "coords = ClimaCore.Fields.coordinate_field(space)\n",
    "\n",
    "u = map(coords) do coord\n",
    "    u0 = 20.0\n",
    "    α0 = 45.0\n",
    "    ϕ = coord.lat\n",
    "    λ = coord.long\n",
    "\n",
    "    uu = u0 * (cosd(α0) * cosd(ϕ) + sind(α0) * cosd(λ) * sind(ϕ))\n",
    "    uv = -u0 * sind(α0) * sind(λ)\n",
    "    ClimaCore.Geometry.UVVector(uu, uv)\n",
    "end\n",
    "\n",
    "# Let us plot the zonal component of the velocity\n",
    "u_field_fig = ClimaCoreMakie.viz(u.components.data.:1)"
   ]
  },
  {
   "cell_type": "code",
   "execution_count": null,
   "metadata": {},
   "outputs": [],
   "source": [
    "# Let us save it\n",
    "u_field_fig_filename = joinpath(\"./\", \"Makie_2D_cubed_sphere.png\")\n",
    "GLMakie.save(u_field_fig_filename, u_field_fig)"
   ]
  }
 ],
 "metadata": {
  "kernelspec": {
   "display_name": "Julia 1.7.1",
   "language": "julia",
   "name": "julia-1.7"
  },
  "language_info": {
   "file_extension": ".jl",
   "mimetype": "application/julia",
   "name": "julia",
   "version": "1.7.1"
  }
 },
 "nbformat": 4,
 "nbformat_minor": 4
}

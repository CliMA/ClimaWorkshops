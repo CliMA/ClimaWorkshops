{
 "cells": [
  {
   "cell_type": "markdown",
   "metadata": {},
   "source": [
    "## ClimaCorePlots\n",
    "\n",
    "### Constructing a discretization\n",
    "\n",
    "As we saw in the [Introduction to ClimaCore.jl workshop](../intro-climacore/climacore-api.ipynb), in ClimaCore's API, a spatial discretization is made up of 4 elements:\n",
    "- `Domain`\n",
    "- `Mesh`\n",
    "- `Topology`\n",
    "- `Space`"
   ]
  },
  {
   "cell_type": "code",
   "execution_count": null,
   "metadata": {},
   "outputs": [],
   "source": [
    "using IntervalSets\n",
    "\n",
    "import Plots\n",
    "\n",
    "import ClimaCore\n",
    "import ClimaCorePlots"
   ]
  },
  {
   "cell_type": "markdown",
   "metadata": {},
   "source": [
    "### 1D Plots\n",
    "Let's start with a simple 1D Spectral Element discretization"
   ]
  },
  {
   "cell_type": "code",
   "execution_count": null,
   "metadata": {},
   "outputs": [],
   "source": [
    "domain = ClimaCore.Domains.IntervalDomain(\n",
    "        ClimaCore.Geometry.XPoint(0.0) .. ClimaCore.Geometry.XPoint(π),\n",
    "        boundary_tags = (:left, :right),\n",
    "    )\n",
    "mesh = ClimaCore.Meshes.IntervalMesh(domain; nelems = 10)\n",
    "grid_topology = ClimaCore.Topologies.IntervalTopology(mesh)\n",
    "\n",
    "# Let us set up a Finite Volume discretization as a 0-th order (piecewise constant) Finite Element discretization with Gauss-Legendre quadrature point\n",
    "fv_quad = ClimaCore.Spaces.Quadratures.GL{1}()\n",
    "fv_space = ClimaCore.Spaces.SpectralElementSpace1D(grid_topology, fv_quad)\n",
    "\n",
    "# Let us set up a Spectral Element discretization with 5 Gauss-Legendre-Lobatto nodes (i.e., polynomial degree 4)\n",
    "sem_quad = ClimaCore.Spaces.Quadratures.GLL{5}()\n",
    "sem_space = ClimaCore.Spaces.SpectralElementSpace1D(grid_topology, sem_quad)"
   ]
  },
  {
   "cell_type": "code",
   "execution_count": null,
   "metadata": {},
   "outputs": [],
   "source": [
    "# Define the field of coordinates for both discretizations\n",
    "fv_coords = ClimaCore.Fields.coordinate_field(fv_space)\n",
    "sem_coords = ClimaCore.Fields.coordinate_field(sem_space)"
   ]
  },
  {
   "cell_type": "code",
   "execution_count": null,
   "metadata": {},
   "outputs": [],
   "source": [
    "# Let's define a simple sinusoidal field on these two spaces\n",
    "\n",
    "fv_u = sin.(π .* fv_coords.x)\n",
    "\n",
    "sem_u = sin.(π .* sem_coords.x)"
   ]
  },
  {
   "cell_type": "code",
   "execution_count": null,
   "metadata": {},
   "outputs": [],
   "source": [
    "fv_field_fig = Plots.plot(fv_u)\n",
    "# Superimpose the second plot, with the bang \"!\"\n",
    "sem_and_fv_field_fig = Plots.plot!(sem_u)"
   ]
  },
  {
   "cell_type": "code",
   "execution_count": null,
   "metadata": {},
   "outputs": [],
   "source": [
    "# Let's save the figure in a png file\n",
    "# First let us set up the file paths\n",
    "filename = joinpath(\"./\", \"1D_fv_and_sem_field.png\")\n",
    "Plots.png(sem_and_fv_field_fig, filename)"
   ]
  },
  {
   "cell_type": "markdown",
   "metadata": {},
   "source": [
    "### 2D Plots on a non-hybrid plane"
   ]
  },
  {
   "cell_type": "code",
   "execution_count": null,
   "metadata": {},
   "outputs": [],
   "source": [
    "domain = ClimaCore.Domains.RectangleDomain(\n",
    "        ClimaCore.Geometry.XPoint(0) .. ClimaCore.Geometry.XPoint(2π),\n",
    "        ClimaCore.Geometry.YPoint(0) .. ClimaCore.Geometry.YPoint(2π),\n",
    "        x1periodic = true,\n",
    "        x2periodic = true,\n",
    "    )\n",
    "\n",
    "n1, n2 = 2, 2\n",
    "Nq = 4\n",
    "mesh = ClimaCore.Meshes.RectilinearMesh(domain, n1, n2)\n",
    "grid_topology = ClimaCore.Topologies.Topology2D(mesh)\n",
    "quad = ClimaCore.Spaces.Quadratures.ClosedUniform{Nq + 1}()\n",
    "rectangle_space = ClimaCore.Spaces.SpectralElementSpace2D(grid_topology, quad)\n",
    "coords = ClimaCore.Fields.coordinate_field(rectangle_space)\n",
    "\n",
    "# Let's plot this rectangle space\n",
    "rectangle_space_fig = Plots.plot(rectangle_space)"
   ]
  },
  {
   "cell_type": "code",
   "execution_count": null,
   "metadata": {},
   "outputs": [],
   "source": [
    "# Let's define a scalar-valued field    \n",
    "sinxy = map(coords) do coord\n",
    "    cos(coord.x + coord.y)\n",
    "end"
   ]
  },
  {
   "cell_type": "code",
   "execution_count": null,
   "metadata": {},
   "outputs": [],
   "source": [
    "rectangle_field_fig = Plots.plot(sinxy)"
   ]
  },
  {
   "cell_type": "code",
   "execution_count": null,
   "metadata": {},
   "outputs": [],
   "source": [
    "rectangle_field_filename = joinpath(\"./\", \"2D_rectangle_field.png\")\n",
    "Plots.png(rectangle_field_fig, rectangle_field_filename)"
   ]
  },
  {
   "cell_type": "markdown",
   "metadata": {},
   "source": [
    "### Hybrid 2D (1DX) Cartesian space"
   ]
  },
  {
   "cell_type": "code",
   "execution_count": null,
   "metadata": {},
   "outputs": [],
   "source": [
    "FT = Float64\n",
    "helem = 10\n",
    "velem = 40\n",
    "npoly = 4\n",
    "\n",
    "# Let's set up the 1D vertical Finite Difference discretization\n",
    "vertdomain = ClimaCore.Domains.IntervalDomain(\n",
    "    ClimaCore.Geometry.ZPoint{FT}(0),\n",
    "    ClimaCore.Geometry.ZPoint{FT}(1000);\n",
    "    boundary_tags = (:bottom, :top),\n",
    ")\n",
    "vertmesh = ClimaCore.Meshes.IntervalMesh(vertdomain, nelems = velem)\n",
    "vert_center_space = ClimaCore.Spaces.CenterFiniteDifferenceSpace(vertmesh)\n",
    "\n",
    "# Let's set up the 2D horizontal Spectral Element discretization\n",
    "horzdomain = ClimaCore.Domains.IntervalDomain(\n",
    "    ClimaCore.Geometry.XPoint{FT}(-500) ..\n",
    "    ClimaCore.Geometry.XPoint{FT}(500),\n",
    "    periodic = true,\n",
    ")\n",
    "horzmesh = ClimaCore.Meshes.IntervalMesh(horzdomain; nelems = helem)\n",
    "horztopology = ClimaCore.Topologies.IntervalTopology(horzmesh)\n",
    "\n",
    "quad = ClimaCore.Spaces.Quadratures.GLL{npoly + 1}()\n",
    "horzspace = ClimaCore.Spaces.SpectralElementSpace1D(horztopology, quad)\n",
    "\n",
    "# Let's combine these two spaces in an extruded hybrid 1DX space\n",
    "hv_center_space = ClimaCore.Spaces.ExtrudedFiniteDifferenceSpace(\n",
    "    horzspace,\n",
    "    vert_center_space,\n",
    ")\n",
    "\n",
    "# Let's define the 2D coordinate field on this hybrid space\n",
    "coords = ClimaCore.Fields.coordinate_field(hv_center_space)\n",
    "\n",
    "# Let us plot the X coordinates\n",
    "xcoords_fig = Plots.plot(coords.x)"
   ]
  },
  {
   "cell_type": "code",
   "execution_count": null,
   "metadata": {},
   "outputs": [],
   "source": [
    "# And the Z coordinates separately\n",
    "zcoords_fig = Plots.plot(coords.z)"
   ]
  },
  {
   "cell_type": "markdown",
   "metadata": {},
   "source": [
    "### Hybrid 3D (2DX) Cartesian space"
   ]
  },
  {
   "cell_type": "code",
   "execution_count": null,
   "metadata": {},
   "outputs": [],
   "source": [
    "xelem = 10\n",
    "yelem = 5\n",
    "velem = 40\n",
    "npoly = 4\n",
    "\n",
    "vertdomain = ClimaCore.Domains.IntervalDomain(\n",
    "    ClimaCore.Geometry.ZPoint{FT}(0),\n",
    "    ClimaCore.Geometry.ZPoint{FT}(1000);\n",
    "    boundary_tags = (:bottom, :top),\n",
    ")\n",
    "vertmesh = ClimaCore.Meshes.IntervalMesh(vertdomain, nelems = velem)\n",
    "vert_center_space = ClimaCore.Spaces.CenterFiniteDifferenceSpace(vertmesh)\n",
    "\n",
    "xdomain = ClimaCore.Domains.IntervalDomain(\n",
    "    ClimaCore.Geometry.XPoint{FT}(-500) ..\n",
    "    ClimaCore.Geometry.XPoint{FT}(500),\n",
    "    periodic = true,\n",
    ")\n",
    "ydomain = ClimaCore.Domains.IntervalDomain(\n",
    "    ClimaCore.Geometry.YPoint{FT}(-100) ..\n",
    "    ClimaCore.Geometry.YPoint{FT}(100),\n",
    "    periodic = true,\n",
    ")\n",
    "\n",
    "horzdomain = ClimaCore.Domains.RectangleDomain(xdomain, ydomain)\n",
    "horzmesh = ClimaCore.Meshes.RectilinearMesh(horzdomain, xelem, yelem)\n",
    "horztopology = ClimaCore.Topologies.Topology2D(horzmesh)\n",
    "\n",
    "quad = ClimaCore.Spaces.Quadratures.GLL{npoly + 1}()\n",
    "horzspace = ClimaCore.Spaces.SpectralElementSpace2D(horztopology, quad)\n",
    "\n",
    "hv_center_space = ClimaCore.Spaces.ExtrudedFiniteDifferenceSpace(\n",
    "    horzspace,\n",
    "    vert_center_space,\n",
    ")\n",
    "\n",
    "coords = ClimaCore.Fields.coordinate_field(hv_center_space)\n",
    "\n",
    "# Let us plot the X coordinates on the XZ plane\n",
    "xcoords_2dx_fig = Plots.plot(coords.x, slice = (:, 0.0, :))"
   ]
  },
  {
   "cell_type": "code",
   "execution_count": null,
   "metadata": {},
   "outputs": [],
   "source": [
    "# Plot the Y coordinates on the YZ plane\n",
    "ycoords_2dx_fig = Plots.plot(coords.y, slice = (0.0, :, :))"
   ]
  },
  {
   "cell_type": "code",
   "execution_count": null,
   "metadata": {},
   "outputs": [],
   "source": [
    "# Plot the Z coordinate on the XZ plane\n",
    "xzcoords_2dx_fig = Plots.plot(coords.z, slice = (:, 0.0, :))"
   ]
  },
  {
   "cell_type": "code",
   "execution_count": null,
   "metadata": {},
   "outputs": [],
   "source": [
    "# Plot the Z coordinate on the YZ plane coordinates\n",
    "yzcoords_2dx_fig = Plots.plot(coords.z, slice = (0.0, :, :))"
   ]
  },
  {
   "cell_type": "code",
   "execution_count": null,
   "metadata": {},
   "outputs": [],
   "source": [
    "# Let us save all of them\n",
    "\n",
    "xcoords_2dx_png_filename = joinpath(\"./\", \"hybrid_xcoords_center_field.png\")\n",
    "Plots.png(xcoords_2dx_fig, xcoords_2dx_png_filename)\n",
    "\n",
    "ycoords_2dx_png_filename = joinpath(\"./\", \"hybrid_ycoords_center_field.png\")\n",
    "Plots.png(ycoords_2dx_fig, ycoords_2dx_png_filename)\n",
    "\n",
    "xzcoords_2dx_png_filename = joinpath(\"./\", \"hybrid_xzcoords_center_field.png\")\n",
    "Plots.png(xzcoords_2dx_fig, xzcoords_2dx_png_filename)\n",
    "\n",
    "yzcoords_2dx_png_filename = joinpath(\"./\", \"hybrid_yzcoords_center_field.png\")\n",
    "Plots.png(yzcoords_2dx_fig, yzcoords_2dx_png_filename)"
   ]
  },
  {
   "cell_type": "markdown",
   "metadata": {},
   "source": [
    "### 2D sphere"
   ]
  },
  {
   "cell_type": "code",
   "execution_count": null,
   "metadata": {},
   "outputs": [],
   "source": [
    "R = 6.37122e6\n",
    "\n",
    "sphere_domain = ClimaCore.Domains.SphereDomain(R)\n",
    "sphere_mesh = ClimaCore.Meshes.EquiangularCubedSphere(sphere_domain, 8)\n",
    "sphere_grid_topology = ClimaCore.Topologies.Topology2D(sphere_mesh)\n",
    "sphere_quad = ClimaCore.Spaces.Quadratures.GLL{4}()\n",
    "sphere_space = ClimaCore.Spaces.SpectralElementSpace2D(sphere_grid_topology, sphere_quad)\n",
    "coords = ClimaCore.Fields.coordinate_field(sphere_space)\n",
    "\n",
    "# Let us define a 2D vector-valued field\n",
    "u = map(coords) do coord\n",
    "    u0 = 20.0\n",
    "    α0 = 45.0\n",
    "    ϕ = coord.lat\n",
    "    λ = coord.long\n",
    "\n",
    "    uu = u0 * (cosd(α0) * cosd(ϕ) + sind(α0) * cosd(λ) * sind(ϕ))\n",
    "    uv = -u0 * sind(α0) * sind(λ)\n",
    "    ClimaCore.Geometry.UVVector(uu, uv)\n",
    "end"
   ]
  },
  {
   "cell_type": "code",
   "execution_count": null,
   "metadata": {},
   "outputs": [],
   "source": [
    "# Let us plot the zonal velocity component\n",
    "u_field_fig = Plots.plot(u.components.data.:1)"
   ]
  },
  {
   "cell_type": "code",
   "execution_count": null,
   "metadata": {},
   "outputs": [],
   "source": [
    "# And the meridional component of the velocity\n",
    "v_field_fig = Plots.plot(u.components.data.:2)"
   ]
  },
  {
   "cell_type": "code",
   "execution_count": null,
   "metadata": {},
   "outputs": [],
   "source": [
    "# Let us save them both\n",
    "u_field_filename = joinpath(\"./\", \"2D_cubed_sphere_u_field.png\")\n",
    "Plots.png(u_field_fig, u_field_filename)\n",
    "v_field_filename = joinpath(\"./\", \"2D_cubed_sphere_v_field.png\")\n",
    "Plots.png(v_field_fig, v_field_filename)"
   ]
  },
  {
   "cell_type": "markdown",
   "metadata": {},
   "source": [
    "### Hybrid 3D sphere"
   ]
  },
  {
   "cell_type": "code",
   "execution_count": null,
   "metadata": {},
   "outputs": [],
   "source": [
    "# Let us reuse the same 2D spectral element space on the sphere and the vertical Finite Difference space we defined earlier\n",
    "hv_center_space = ClimaCore.Spaces.ExtrudedFiniteDifferenceSpace(sphere_space, vert_center_space)\n",
    "# And let us define the Face space from the Center space\n",
    "hv_face_space = ClimaCore.Spaces.FaceExtrudedFiniteDifferenceSpace(hv_center_space)\n",
    "coords = ClimaCore.Fields.coordinate_field(hv_center_space)"
   ]
  },
  {
   "cell_type": "code",
   "execution_count": null,
   "metadata": {
    "scrolled": true
   },
   "outputs": [],
   "source": [
    "# Let us define a 3D vector-valued field\n",
    "u = map(coords) do coord\n",
    "    u0 = 20.0\n",
    "    α0 = 45.0\n",
    "    ϕ = coord.lat\n",
    "    λ = coord.long\n",
    "    z = coord.z\n",
    "\n",
    "    uu = u0 * (cosd(α0) * cosd(ϕ) + sind(α0) * cosd(λ) * sind(ϕ))\n",
    "    uv = -u0 * sind(α0) * sind(λ)\n",
    "    uw = z\n",
    "    ClimaCore.Geometry.UVWVector(uu, uv, uw)\n",
    "end\n",
    "\n",
    "# Let us plot the meridional velocity component, at the 3rd vertical level\n",
    "v_field_level3_fig = Plots.plot(u.components.data.:2, level = 3)"
   ]
  },
  {
   "cell_type": "code",
   "execution_count": null,
   "metadata": {},
   "outputs": [],
   "source": [
    "ClimaCore.level(u.components.data.:3,1)"
   ]
  },
  {
   "cell_type": "code",
   "execution_count": null,
   "metadata": {},
   "outputs": [],
   "source": [
    "w_field_level10_fig = Plots.plot(u.components.data.:3, level = 1, clim=(0,100))"
   ]
  }
 ],
 "metadata": {
  "kernelspec": {
   "display_name": "Julia 1.7.1",
   "language": "julia",
   "name": "julia-1.7"
  },
  "language_info": {
   "file_extension": ".jl",
   "mimetype": "application/julia",
   "name": "julia",
   "version": "1.7.1"
  }
 },
 "nbformat": 4,
 "nbformat_minor": 4
}

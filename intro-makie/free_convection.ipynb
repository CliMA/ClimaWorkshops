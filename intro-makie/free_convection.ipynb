{
 "cells": [
  {
   "cell_type": "markdown",
   "source": [
    "# Intro to three-dimensional plotting with Makie\n",
    "\n",
    "This tutorial introduces three-dimensional animations\n",
    "with GLMakie.jl, using data from a large eddy simulation of convection.\n",
    "\n",
    "If you're using a notebook or you forgot to write `julia --project`,\n",
    "these lines will help..."
   ],
   "metadata": {}
  },
  {
   "outputs": [],
   "cell_type": "code",
   "source": [
    "using Pkg\n",
    "Pkg.activate(\".\")\n",
    "Pkg.instantiate()"
   ],
   "metadata": {},
   "execution_count": null
  },
  {
   "cell_type": "markdown",
   "source": [
    "Next we import packages"
   ],
   "metadata": {}
  },
  {
   "outputs": [],
   "cell_type": "code",
   "source": [
    "using GLMakie\n",
    "using Oceananigans\n",
    "using Printf"
   ],
   "metadata": {},
   "execution_count": null
  },
  {
   "cell_type": "markdown",
   "source": [
    "# The setup\n",
    "\n",
    "We generate 3D data of free convection to have something pretty to plot.\n",
    "The details aren't too important... suffice to say that it's stably stratified,\n",
    "heated from the bottom, and we save 3D facess kinetic energy to plot later."
   ],
   "metadata": {}
  },
  {
   "outputs": [],
   "cell_type": "code",
   "source": [
    "grid = RectilinearGrid(size=(64, 64, 64), extent=(256, 256, 128), halo=(3, 3, 3), topology=(Periodic, Periodic, Bounded))\n",
    "boundary_conditions = (; b=FieldBoundaryConditions(bottom=FluxBoundaryCondition(1e-7)))\n",
    "model = NonhydrostaticModel(; grid, boundary_conditions, advection=WENO5(), tracers=:b, buoyancy=BuoyancyTracer())\n",
    "bᵢ(x, y, z) = 1e-6 * z + 1e-6 * rand()\n",
    "set!(model, b=bᵢ)\n",
    "simulation = Simulation(model, Δt=10.0, stop_iteration=1000)\n",
    "\n",
    "u, v, w = model.velocities\n",
    "e_op = @at (Center, Center, Center) (u^2 + v^2 + w^2) / 2\n",
    "e = compute!(Field(e_op))\n",
    "\n",
    "simulation.output_writers[:ke] = JLD2OutputWriter(model, (; e),\n",
    "                                                  schedule = IterationInterval(20),\n",
    "                                                  prefix = \"convection\",\n",
    "                                                  force = true)\n",
    "\n",
    "progress(sim) = @info string(\"Iter: \", iteration(sim), \", time: \", prettytime(sim))\n",
    "simulation.callbacks[:progress] = Callback(progress, IterationInterval(10))\n",
    "\n",
    "run!(simulation)"
   ],
   "metadata": {},
   "execution_count": null
  },
  {
   "cell_type": "markdown",
   "source": [
    "Note that it's usually advisible to save just the 2D _slices_ that are going\n",
    "to be plotted later for 3D animations. The above saves 3D data for simplicity."
   ],
   "metadata": {}
  },
  {
   "cell_type": "markdown",
   "source": [
    "# Visualization\n",
    "\n",
    "## Building coordinates and loading data\n",
    "\n",
    "We define a function that'll help us extract slices on the\n",
    "faces of a faces of data:"
   ],
   "metadata": {}
  },
  {
   "outputs": [],
   "cell_type": "code",
   "source": [
    "function faces(field)\n",
    "    Nx, Ny, Nz = size(field)\n",
    "    return (east   = interior(field,  1, :, :),\n",
    "            west   = interior(field, Nx, :, :),\n",
    "            south  = interior(field, :,  1, :),\n",
    "            north  = interior(field, :, Ny, :),\n",
    "            bottom = interior(field, :, :,  1),\n",
    "            top    = interior(field, :, :, Nz))\n",
    "end"
   ],
   "metadata": {},
   "execution_count": null
  },
  {
   "cell_type": "markdown",
   "source": [
    "and use `faces` util to create \"coordinate fields\":"
   ],
   "metadata": {}
  },
  {
   "outputs": [],
   "cell_type": "code",
   "source": [
    "x = set!(CenterField(grid), (x, y, z) -> x)\n",
    "y = set!(CenterField(grid), (x, y, z) -> y)\n",
    "z = set!(CenterField(grid), (x, y, z) -> z)\n",
    "\n",
    "xfaces = faces(x)\n",
    "yfaces = faces(y)\n",
    "zfaces = faces(z)"
   ],
   "metadata": {},
   "execution_count": null
  },
  {
   "cell_type": "markdown",
   "source": [
    "This is the important part: we nudge the coordinates a little bit\n",
    "to close gaps between surfaces. Nudging coordinates is often\n",
    "handy in 3D to overcome visualization artifacts or enforce visibility of\n",
    "stacked objects."
   ],
   "metadata": {}
  },
  {
   "outputs": [],
   "cell_type": "code",
   "source": [
    "nudge = 0.005 * grid.Lx\n",
    "xfaces.west   .+= nudge\n",
    "yfaces.south  .+= nudge\n",
    "zfaces.top    .+= nudge\n",
    "xfaces.east   .-= nudge\n",
    "yfaces.north  .-= nudge\n",
    "zfaces.bottom .-= nudge"
   ],
   "metadata": {},
   "execution_count": null
  },
  {
   "cell_type": "markdown",
   "source": [
    "Finally, we load the 3D data that we saved:"
   ],
   "metadata": {}
  },
  {
   "outputs": [],
   "cell_type": "code",
   "source": [
    "et = FieldTimeSeries(\"convection.jld2\", \"e\")"
   ],
   "metadata": {},
   "execution_count": null
  },
  {
   "cell_type": "markdown",
   "source": [
    "## Building a 3D animation with `Observable`s\n",
    "\n",
    "We use `Figure`"
   ],
   "metadata": {}
  },
  {
   "outputs": [],
   "cell_type": "code",
   "source": [
    "fig = Figure(resolution=(1200, 800))"
   ],
   "metadata": {},
   "execution_count": null
  },
  {
   "cell_type": "markdown",
   "source": [
    "with a `Slider` to control the time index,"
   ],
   "metadata": {}
  },
  {
   "outputs": [],
   "cell_type": "code",
   "source": [
    "Nt = length(et.times)\n",
    "slider = Slider(fig[2, 1], range=1:Nt, startvalue=1)\n",
    "n = slider.value"
   ],
   "metadata": {},
   "execution_count": null
  },
  {
   "cell_type": "markdown",
   "source": [
    "and `Axis3`,"
   ],
   "metadata": {}
  },
  {
   "outputs": [],
   "cell_type": "code",
   "source": [
    "title = @lift \"Free convection at t = \" * prettytime(et.times[$n])\n",
    "ax = Axis3(fig[1, 1], xlabel=\"x (m)\", ylabel=\"y (m)\", zlabel=\"z (m)\"; title)"
   ],
   "metadata": {},
   "execution_count": null
  },
  {
   "cell_type": "markdown",
   "source": [
    "Now we're ready to create `Observable` with the handy `slicer.value`,"
   ],
   "metadata": {}
  },
  {
   "outputs": [],
   "cell_type": "code",
   "source": [
    "Nx, Ny, Nz = size(grid)\n",
    "eⁿ_east   = @lift interior(et[$n],  1,  :,  :)\n",
    "eⁿ_west   = @lift interior(et[$n], Nx,  :,  :)\n",
    "eⁿ_south  = @lift interior(et[$n],  :,  1,  :)\n",
    "eⁿ_north  = @lift interior(et[$n],  :, Ny,  :)\n",
    "eⁿ_top    = @lift interior(et[$n],  :,  :,  1)\n",
    "eⁿ_bottom = @lift interior(et[$n],  :,  :, Nz)\n",
    "\n",
    "eⁿ = (east  = eⁿ_east,  west   = eⁿ_west,\n",
    "      south = eⁿ_south, north  = eⁿ_north,\n",
    "      top   = eⁿ_top,   bottom = eⁿ_bottom)"
   ],
   "metadata": {},
   "execution_count": null
  },
  {
   "cell_type": "markdown",
   "source": [
    "and plot everything"
   ],
   "metadata": {}
  },
  {
   "outputs": [],
   "cell_type": "code",
   "source": [
    "for side in (:east, :west, :north, :south, :top, :bottom)\n",
    "    surface!(ax, xfaces[side], yfaces[side], zfaces[side], color=eⁿ[side])\n",
    "end\n",
    "\n",
    "display(fig)"
   ],
   "metadata": {},
   "execution_count": null
  },
  {
   "cell_type": "markdown",
   "source": [
    "We can then either play with the `Slider`, or compile the frames into\n",
    "an animation,"
   ],
   "metadata": {}
  },
  {
   "outputs": [],
   "cell_type": "code",
   "source": [
    "record(fig, \"free_convection.mp4\", 1:Nt, framerate=24) do nn\n",
    "    n[] = nn\n",
    "end"
   ],
   "metadata": {},
   "execution_count": null
  },
  {
   "cell_type": "markdown",
   "source": [
    "---\n",
    "\n",
    "*This notebook was generated using [Literate.jl](https://github.com/fredrikekre/Literate.jl).*"
   ],
   "metadata": {}
  }
 ],
 "nbformat_minor": 3,
 "metadata": {
  "language_info": {
   "file_extension": ".jl",
   "mimetype": "application/julia",
   "name": "julia",
   "version": "1.6.5"
  },
  "kernelspec": {
   "name": "julia-1.6",
   "display_name": "Julia 1.6.5",
   "language": "julia"
  }
 },
 "nbformat": 4
}

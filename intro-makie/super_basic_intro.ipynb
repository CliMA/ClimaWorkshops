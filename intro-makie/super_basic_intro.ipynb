{
 "cells": [
  {
   "cell_type": "markdown",
   "source": [
    "# Super basic intro to `Slider` and interactivity\n",
    "\n",
    "All we need for this tutorial besides"
   ],
   "metadata": {}
  },
  {
   "outputs": [],
   "cell_type": "code",
   "source": [
    "using Pkg; Pkg.activate(\".\"); Pkg.instantiate()"
   ],
   "metadata": {},
   "execution_count": null
  },
  {
   "cell_type": "markdown",
   "source": [
    "is"
   ],
   "metadata": {}
  },
  {
   "outputs": [],
   "cell_type": "code",
   "source": [
    "using GLMakie"
   ],
   "metadata": {},
   "execution_count": null
  },
  {
   "cell_type": "markdown",
   "source": [
    "Next we'll generate a \"series\" of random data,"
   ],
   "metadata": {}
  },
  {
   "outputs": [],
   "cell_type": "code",
   "source": [
    "random_series = [rand(10, 10) for i = 1:10]"
   ],
   "metadata": {},
   "execution_count": null
  },
  {
   "cell_type": "markdown",
   "source": [
    "Our objective is to create an interactive visualization for exploring\n",
    "`random_series`. So we create a figure with a `Slider`:"
   ],
   "metadata": {}
  },
  {
   "outputs": [],
   "cell_type": "code",
   "source": [
    "fig = Figure()\n",
    "slider = Slider(fig[2, 1], range=1:length(random_series), startvalue=1)"
   ],
   "metadata": {},
   "execution_count": null
  },
  {
   "cell_type": "markdown",
   "source": [
    "note that we've placed the `Slider` at `fig[2, 1]`, which is the\n",
    "second row and first column in the `Figure`'s layout.\n",
    "The slider has a \"`value`\","
   ],
   "metadata": {}
  },
  {
   "outputs": [],
   "cell_type": "code",
   "source": [
    "n = slider.value"
   ],
   "metadata": {},
   "execution_count": null
  },
  {
   "cell_type": "markdown",
   "source": [
    "which is something called an \"`Observable`\". An `Observable` wraps a value;\n",
    "in this case an `Integer`:"
   ],
   "metadata": {}
  },
  {
   "outputs": [],
   "cell_type": "code",
   "source": [
    "n.val"
   ],
   "metadata": {},
   "execution_count": null
  },
  {
   "cell_type": "markdown",
   "source": [
    "The `Observable` can be updated by referencing it:"
   ],
   "metadata": {}
  },
  {
   "outputs": [],
   "cell_type": "code",
   "source": [
    "n[] = 2"
   ],
   "metadata": {},
   "execution_count": null
  },
  {
   "cell_type": "markdown",
   "source": [
    "Next we create an `Axis` in which we'll plot the data"
   ],
   "metadata": {}
  },
  {
   "outputs": [],
   "cell_type": "code",
   "source": [
    "ax = Axis(fig[1, 1])"
   ],
   "metadata": {},
   "execution_count": null
  },
  {
   "cell_type": "markdown",
   "source": [
    "Finally, we create another `Observable` which is linked to `n`.\n",
    "There are a few ways to do this and it can sometime require trial and error\n",
    "to get right. Here we use the macro `@lift`:"
   ],
   "metadata": {}
  },
  {
   "outputs": [],
   "cell_type": "code",
   "source": [
    "rn = @lift random_series[$n]"
   ],
   "metadata": {},
   "execution_count": null
  },
  {
   "cell_type": "markdown",
   "source": [
    "and \"interpolate\" the `Observable` `n` into the expression by writing `$n`.\n",
    "This creates another `Observable` that \"listens\" to the value of `$n`. So"
   ],
   "metadata": {}
  },
  {
   "outputs": [],
   "cell_type": "code",
   "source": [
    "rn.val"
   ],
   "metadata": {},
   "execution_count": null
  },
  {
   "cell_type": "markdown",
   "source": [
    "but"
   ],
   "metadata": {}
  },
  {
   "outputs": [],
   "cell_type": "code",
   "source": [
    "n[] = 1\n",
    "rn.val"
   ],
   "metadata": {},
   "execution_count": null
  },
  {
   "cell_type": "markdown",
   "source": [
    "changes the data. `Observable` can be passed to `Makie`'s plotting functions,"
   ],
   "metadata": {}
  },
  {
   "outputs": [],
   "cell_type": "code",
   "source": [
    "heatmap!(ax, rn)"
   ],
   "metadata": {},
   "execution_count": null
  },
  {
   "cell_type": "markdown",
   "source": [
    "moving the slider updates the data!"
   ],
   "metadata": {}
  },
  {
   "outputs": [],
   "cell_type": "code",
   "source": [
    "fig"
   ],
   "metadata": {},
   "execution_count": null
  },
  {
   "cell_type": "markdown",
   "source": [
    "# Exercises\n",
    "\n",
    "Completing these exercises might help reinforce the lessons of this tutorial:\n",
    "\n",
    "1. Add axis labels (https://makie.juliaplots.org/stable/examples/layoutables/axis/)\n",
    "2. Add a title that's updated by the slider Hint: create a title with `@lift`:\n",
    "3. Add dynamically updating `colorrange` in `heatmap!`.\n",
    "4. Change the aspect ratio of the plot\n",
    "5. Add a colorbar\n",
    "6. Add a title to the colorbar that update dynamically\n",
    "\n",
    "The \"answers\" to the exercises are provided in the updated script `even_better_super_basic_intro.jl`."
   ],
   "metadata": {}
  },
  {
   "outputs": [],
   "cell_type": "code",
   "source": [
    "fig"
   ],
   "metadata": {},
   "execution_count": null
  },
  {
   "cell_type": "markdown",
   "source": [
    "---\n",
    "\n",
    "*This notebook was generated using [Literate.jl](https://github.com/fredrikekre/Literate.jl).*"
   ],
   "metadata": {}
  }
 ],
 "nbformat_minor": 3,
 "metadata": {
  "language_info": {
   "file_extension": ".jl",
   "mimetype": "application/julia",
   "name": "julia",
   "version": "1.6.5"
  },
  "kernelspec": {
   "name": "julia-1.6",
   "display_name": "Julia 1.6.5",
   "language": "julia"
  }
 },
 "nbformat": 4
}

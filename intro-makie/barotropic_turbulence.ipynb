{
 "cells": [
  {
   "cell_type": "markdown",
   "metadata": {},
   "source": [
    "# Intro to two-dimensional plotting with Makie\n",
    "\n",
    "This tutorial introduces two-dimensional static and animated visualization\n",
    "with GLMakie.jl, using data from a freely-decaying barotropic turbulence simulation.\n",
    "\n",
    "We'll\n",
    "\n",
    "1. Create a simple figure with one axis\n",
    "2. Create a figure with layout\n",
    "3. Update a plot live while a simulation runs\n",
    "4. Record an animation while a simulation runs\n",
    "5. Use `Slider` to explore data in a static plot in post\n",
    "6. Use `Observable` to animate data in post with a fancy `colorrange`\n",
    "\n",
    "If you're using a notebook or you forgot to write `julia --project`,\n",
    "these lines will help..."
   ]
  },
  {
   "cell_type": "code",
   "execution_count": 1,
   "metadata": {},
   "outputs": [
    {
     "name": "stderr",
     "output_type": "stream",
     "text": [
      "\u001b[32m\u001b[1m  Activating\u001b[22m\u001b[39m project at `~/Projects/ClimaWorkshops/intro-makie`\n",
      "┌ Warning: The active manifest file is an older format with no julia version entry. Dependencies may have been resolved with a different julia version.\n",
      "└ @ nothing /Users/gregorywagner/Projects/ClimaWorkshops/intro-makie/Manifest.toml:0\n"
     ]
    }
   ],
   "source": [
    "using Pkg\n",
    "Pkg.activate(\".\")\n",
    "Pkg.instantiate()"
   ]
  },
  {
   "cell_type": "markdown",
   "metadata": {},
   "source": [
    "Now we import all the packages we're planning to use: Makie with the OpenGL backend,\n",
    "Oceananigans, the function `mean`, and `Printf` for pretty printing."
   ]
  },
  {
   "cell_type": "code",
   "execution_count": 2,
   "metadata": {},
   "outputs": [],
   "source": [
    "using GLMakie\n",
    "using Oceananigans\n",
    "using Oceananigans.Simulations: reset!\n",
    "using Statistics: mean\n",
    "using Printf"
   ]
  },
  {
   "cell_type": "markdown",
   "metadata": {},
   "source": [
    "# The setup: freely-decaying barotropic turbulence on the beta plane\n",
    "\n",
    "All of the following examples use the setup below, which simulates\n",
    "barotropic turbulence on the beta-plane in a meridionally-bounded domain."
   ]
  },
  {
   "cell_type": "code",
   "execution_count": 3,
   "metadata": {},
   "outputs": [
    {
     "name": "stderr",
     "output_type": "stream",
     "text": [
      "┌ Warning: defaulting to uniform WENO scheme with Float64 precision, use WENO5(grid = grid) if this was not intended\n",
      "└ @ Oceananigans.Advection /Users/gregorywagner/.julia/packages/Oceananigans/9HQkq/src/Advection/weno_fifth_order.jl:154\n"
     ]
    },
    {
     "data": {
      "text/plain": [
       "Simulation of NonhydrostaticModel{CPU, RectilinearGrid}(time = 0 seconds, iteration = 0)\n",
       "├── Next time step: 20 ms\n",
       "├── Elapsed wall time: 0 seconds\n",
       "├── Stop time: Inf years\n",
       "├── Stop iteration : 2000.0\n",
       "├── Wall time limit: Inf\n",
       "├── Callbacks: OrderedDict with 4 entries:\n",
       "│   ├── stop_time_exceeded => Callback of stop_time_exceeded on IterationInterval(1)\n",
       "│   ├── stop_iteration_exceeded => Callback of stop_iteration_exceeded on IterationInterval(1)\n",
       "│   ├── wall_time_limit_exceeded => Callback of wall_time_limit_exceeded on IterationInterval(1)\n",
       "│   └── nan_checker => Callback of NaNChecker for u on IterationInterval(100)\n",
       "├── Output writers: OrderedDict with no entries\n",
       "└── Diagnostics: OrderedDict with no entries"
      ]
     },
     "execution_count": 3,
     "metadata": {},
     "output_type": "execute_result"
    }
   ],
   "source": [
    "# Set up a simulation with random velocity initial conditions\n",
    "grid = RectilinearGrid(size=(128, 128), extent=(2π, 2π), halo=(3, 3), topology=(Periodic, Bounded, Flat))\n",
    "model = NonhydrostaticModel(; grid, advection=WENO5(), coriolis=BetaPlane(f₀=1, β=20))\n",
    "ϵ(x, y, z) = 2rand() - 1\n",
    "set!(model, u=ϵ, v=ϵ)\n",
    "simulation = Simulation(model, Δt=0.02, stop_iteration=2000)"
   ]
  },
  {
   "cell_type": "markdown",
   "metadata": {},
   "source": [
    "## Diagnostics: vorticity, speed, mean momentum, and enstrophy\n",
    "\n",
    "We build some diagnostics so we have data to plot:"
   ]
  },
  {
   "cell_type": "code",
   "execution_count": 4,
   "metadata": {},
   "outputs": [
    {
     "data": {
      "text/plain": [
       "1×128×1 Field{Nothing, Center, Center} reduced over dims = (1,) on RectilinearGrid on CPU\n",
       "├── data: OffsetArrays.OffsetArray{Float64, 3, Array{Float64, 3}}, size: (1, 128, 1)\n",
       "├── grid: 128×128×1 RectilinearGrid{Float64, Periodic, Bounded, Flat} on CPU with 3×3×0 halo\n",
       "├── operand: mean! over dims (1,) of 128×128×1 Field{Face, Center, Center} on RectilinearGrid on CPU\n",
       "└── status: time=0.0"
      ]
     },
     "execution_count": 4,
     "metadata": {},
     "output_type": "execute_result"
    }
   ],
   "source": [
    "# Vorticity\n",
    "u, v, w = model.velocities\n",
    "ζ = compute!(Field(∂x(v) - ∂y(u)))\n",
    "xζ, yζ, zζ = nodes(ζ)\n",
    "\n",
    "# Speed\n",
    "s_op = @at (Center, Center, Center) sqrt(u^2 + v^2)\n",
    "s = compute!(Field(s_op))\n",
    "xs, ys, zs = nodes(s)\n",
    "\n",
    "# Zonal-averaged enstrophy and momentum\n",
    "Z = Field(Average(ζ^2, dims=1))\n",
    "U = Field(Average(u, dims=1))\n",
    "compute!(Z)\n",
    "compute!(U)"
   ]
  },
  {
   "cell_type": "markdown",
   "metadata": {},
   "source": [
    "Note: you'll find the function `interior` used extensively in the code below.\n",
    "This function returns a `view` into the data underlying a `Field`.\n",
    "For example,"
   ]
  },
  {
   "cell_type": "code",
   "execution_count": 5,
   "metadata": {},
   "outputs": [
    {
     "data": {
      "text/plain": [
       "SubArray{Float64, 2, Array{Float64, 3}, Tuple{UnitRange{Int64}, UnitRange{Int64}, Int64}, false}"
      ]
     },
     "execution_count": 5,
     "metadata": {},
     "output_type": "execute_result"
    }
   ],
   "source": [
    "typeof(interior(ζ, :, :, 1))"
   ]
  },
  {
   "cell_type": "markdown",
   "metadata": {},
   "source": [
    "returns a two-dimensional (x, y) view into the vorticity."
   ]
  },
  {
   "cell_type": "markdown",
   "metadata": {},
   "source": [
    "# Demo\n",
    "\n",
    "## Create a simple figure with one axis"
   ]
  },
  {
   "cell_type": "code",
   "execution_count": null,
   "metadata": {},
   "outputs": [],
   "source": [
    "fig = Figure(resolution=(800, 600))\n",
    "ax = Axis(fig[1, 1], xlabel=\"x\", ylabel=\"y\", title=\"Vorticity\", aspect=1)\n",
    "hm = contourf!(ax, xζ, yζ, interior(ζ, :, :, 1), levels=5)\n",
    "save(\"barotropic_turbulence_vorticity.png\", fig)\n",
    "display(fig)"
   ]
  },
  {
   "cell_type": "markdown",
   "metadata": {},
   "source": [
    "## Create a figure with layout"
   ]
  },
  {
   "cell_type": "code",
   "execution_count": null,
   "metadata": {},
   "outputs": [],
   "source": [
    "fig = Figure(resolution=(1200, 1200))\n",
    "\n",
    "ax_ζ = Axis(fig[1, 1], xlabel=\"x\", ylabel=\"y\", title=\"Vorticity\", aspect=1)\n",
    "ax_s = Axis(fig[2, 1], xlabel=\"x\", ylabel=\"y\", title=\"Speed\", aspect=1)\n",
    "ax_Z = Axis(fig[1, 2], xlabel=\"Zonally-averaged enstrophy\", ylabel=\"y\")\n",
    "ax_U = Axis(fig[2, 2], xlabel=\"Zonally-averaged zontal momentum\", ylabel=\"y\")\n",
    "\n",
    "lbl = Label(fig[0, :], \"Barotropic turbulence at t = 0\")\n",
    "\n",
    "cr_ζ = heatmap!(ax_ζ, xζ, yζ, interior(ζ, :, :, 1), colormap=:redblue)\n",
    "cr_s = heatmap!(ax_s, xs, ys, interior(s, :, :, 1))\n",
    "ln_Z = lines!(ax_Z, interior(Z, 1, :, 1), yζ)\n",
    "ln_U = lines!(ax_U, interior(U, 1, :, 1), ys)\n",
    "\n",
    "xlims!(ax_U, -0.1, 0.1)\n",
    "xlims!(ax_Z, 0.0, 10.0)\n",
    "\n",
    "save(\"barotropic_turbulence_vorticity_speed.png\", fig)\n",
    "display(fig)"
   ]
  },
  {
   "cell_type": "markdown",
   "metadata": {},
   "source": [
    "## Update a plot live while a simulation runs"
   ]
  },
  {
   "cell_type": "code",
   "execution_count": null,
   "metadata": {},
   "outputs": [],
   "source": [
    "function update!(sim)\n",
    "    lbl.text[] = @sprintf(\"Barotropic turbulence at t = %.2f\", time(sim))\n",
    "    cr_ζ.input_args[3][] = interior(compute!(ζ), :, :, 1)\n",
    "    cr_s.input_args[3][] = interior(compute!(s), :, :, 1)\n",
    "    compute!(Z); compute!(U)\n",
    "    ln_Z.input_args[1][] = interior(Z, 1, :, 1)\n",
    "    ln_U.input_args[1][] = interior(U, 1, :, 1)\n",
    "    return nothing\n",
    "end\n",
    "\n",
    "simulation.callbacks[:plot] = Callback(update!, IterationInterval(10))\n",
    "run!(simulation)"
   ]
  },
  {
   "cell_type": "markdown",
   "metadata": {},
   "source": [
    "## Record an animation"
   ]
  },
  {
   "cell_type": "code",
   "execution_count": null,
   "metadata": {},
   "outputs": [],
   "source": [
    "pop!(simulation.callbacks, :plot)\n",
    "reset!(simulation) # back to time=0, iteration=0\n",
    "set!(model, u=ϵ, v=ϵ)\n",
    "\n",
    "record(fig, \"barotropic_turbulence_online.mp4\", 1:100, framerate=24) do frame\n",
    "    [time_step!(simulation) for i = 1:10]\n",
    "    update!(simulation)\n",
    "end"
   ]
  },
  {
   "cell_type": "markdown",
   "metadata": {},
   "source": [
    "## Use a slider to explore data"
   ]
  },
  {
   "cell_type": "code",
   "execution_count": null,
   "metadata": {},
   "outputs": [],
   "source": [
    "reset!(simulation) # back to time=0, iteration=0\n",
    "set!(model, u=ϵ, v=ϵ)\n",
    "simulation.stop_iteration = 1000\n",
    "simulation.output_writers[:fields] = JLD2OutputWriter(model, (; ζ, s, Z, U),\n",
    "                                                      schedule = IterationInterval(10),\n",
    "                                                      prefix = \"barotropic_turbulence\",\n",
    "                                                      force = true)\n",
    "\n",
    "run!(simulation)\n",
    "\n",
    "filename = \"barotropic_turbulence.jld2\"\n",
    "ζ_ts = FieldTimeSeries(filename, \"ζ\")\n",
    "s_ts = FieldTimeSeries(filename, \"s\")\n",
    "Z_ts = FieldTimeSeries(filename, \"Z\")\n",
    "U_ts = FieldTimeSeries(filename, \"U\")\n",
    "\n",
    "Nt = length(ζ_ts.times)\n",
    "\n",
    "fig = Figure(resolution=(1200, 1200))\n",
    "\n",
    "ax_ζ = Axis(fig[1, 1], xlabel=\"x\", ylabel=\"y\", aspect=1)\n",
    "ax_s = Axis(fig[2, 1], xlabel=\"x\", ylabel=\"y\", aspect=1)\n",
    "ax_Z = Axis(fig[1, 2], xlabel=\"Zonally-averaged enstrophy\", ylabel=\"y\")\n",
    "ax_U = Axis(fig[2, 2], xlabel=\"Zonally-averaged zontal momentum\", ylabel=\"y\")\n",
    "\n",
    "slider = Slider(fig[3, :], range=1:Nt, startvalue=1)\n",
    "n = slider.value\n",
    "#n = Observable(1) # This works too if we don't need a slider\n",
    "\n",
    "ζn = @lift interior(ζ_ts[$n], :, :, 1)\n",
    "sn = @lift interior(s_ts[$n], :, :, 1)\n",
    "Zn = @lift interior(Z_ts[$n], 1, :, 1)\n",
    "Un = @lift interior(U_ts[$n], 1, :, 1)\n",
    "\n",
    "smax = maximum(abs, interior(s_ts))"
   ]
  },
  {
   "cell_type": "markdown",
   "metadata": {},
   "source": [
    "Dynamic colorange"
   ]
  },
  {
   "cell_type": "code",
   "execution_count": null,
   "metadata": {},
   "outputs": [],
   "source": [
    "Navg = 30\n",
    "ζlims = @lift begin\n",
    "    if $n > Nt - Navg\n",
    "        ζmax = maximum(abs, ζ_ts[$n])\n",
    "        ζlim = ζmax / 2\n",
    "    else\n",
    "        ζmax = mean(maximum(abs, ζ_ts[nn]) for nn in $n:$n+Navg-1)\n",
    "        ζlim = ζmax / 2\n",
    "    end\n",
    "    (-ζlim, ζlim)\n",
    "end\n",
    "\n",
    "hm_ζ = heatmap!(ax_ζ, xζ, yζ, ζn, colormap=:redblue, colorrange=ζlims)\n",
    "hm_s = heatmap!(ax_s, xs, ys, sn, colorrange=(0, smax/2))\n",
    "\n",
    "lines!(ax_Z, Zn, yζ)\n",
    "lines!(ax_U, Un, ys)\n",
    "\n",
    "xlims!(ax_U, -0.15, 0.15)\n",
    "\n",
    "# TODO: make this pretty\n",
    "# Colorbar(fig[2, 0], hm_s, label=\"Speed\", flipaxis=false)\n",
    "# Colorbar(fig[1, 0], hm_ζ, label=\"Vorticity\", flipaxis=false)\n",
    "\n",
    "title = @lift \"Barotropic turbulence at t = \" * string(ζ_ts.times[$n])\n",
    "lbl = Label(fig[0, :], title)\n",
    "\n",
    "display(fig)"
   ]
  },
  {
   "cell_type": "markdown",
   "metadata": {},
   "source": [
    "## Create an animation in post-process"
   ]
  },
  {
   "cell_type": "code",
   "execution_count": null,
   "metadata": {},
   "outputs": [],
   "source": [
    "record(fig, \"barotropic_turbulence_offline.mp4\", 1:100, framerate=24) do nn\n",
    "    n[] = nn\n",
    "    Zmax = maximum(Z_ts[nn])\n",
    "    xlims!(ax_Z, -Zmax/10, 2Zmax)\n",
    "end"
   ]
  },
  {
   "cell_type": "markdown",
   "metadata": {},
   "source": [
    "---\n",
    "\n",
    "*This notebook was generated using [Literate.jl](https://github.com/fredrikekre/Literate.jl).*"
   ]
  }
 ],
 "metadata": {
  "kernelspec": {
   "display_name": "Julia 1.7.2",
   "language": "julia",
   "name": "julia-1.7"
  },
  "language_info": {
   "file_extension": ".jl",
   "mimetype": "application/julia",
   "name": "julia",
   "version": "1.7.2"
  }
 },
 "nbformat": 4,
 "nbformat_minor": 3
}

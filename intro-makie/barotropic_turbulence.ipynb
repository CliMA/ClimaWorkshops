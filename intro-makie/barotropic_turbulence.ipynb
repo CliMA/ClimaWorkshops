{
 "cells": [
  {
   "cell_type": "markdown",
   "source": [
    "# Intro to two-dimensional plotting with Makie\n",
    "\n",
    "This tutorial introduces two-dimensional static and animated visualization\n",
    "with GLMakie.jl, using data from a freely-decaying barotropic turbulence simulation.\n",
    "\n",
    "We'll\n",
    "\n",
    "1. Create a simple figure with one axis\n",
    "2. Create a figure with layout\n",
    "3. Update a plot live while a simulation runs\n",
    "4. Record an animation while a simulation runs\n",
    "5. Use `Slider` to explore data in a static plot in post\n",
    "6. Use `Observable` to animate data in post with a fancy `colorrange`\n",
    "\n",
    "If you're using a notebook or you forgot to write `julia --project`,\n",
    "these lines will help..."
   ],
   "metadata": {}
  },
  {
   "outputs": [],
   "cell_type": "code",
   "source": [
    "using Pkg\n",
    "Pkg.activate(\".\")\n",
    "Pkg.instantiate()"
   ],
   "metadata": {},
   "execution_count": null
  },
  {
   "cell_type": "markdown",
   "source": [
    "Now we import all the packages we're planning to use: Makie with the OpenGL backend,\n",
    "Oceananigans, the function `mean`, and `Printf` for pretty printing."
   ],
   "metadata": {}
  },
  {
   "outputs": [],
   "cell_type": "code",
   "source": [
    "using GLMakie\n",
    "using Oceananigans\n",
    "using Oceananigans.Simulations: reset!\n",
    "using Statistics: mean\n",
    "using Printf"
   ],
   "metadata": {},
   "execution_count": null
  },
  {
   "cell_type": "markdown",
   "source": [
    "# The setup: freely-decaying barotropic turbulence on the beta plane\n",
    "\n",
    "All of the following examples use the setup below, which simulates\n",
    "barotropic turbulence on the beta-plane in a meridionally-bounded domain."
   ],
   "metadata": {}
  },
  {
   "outputs": [],
   "cell_type": "code",
   "source": [
    "# Set up a simulation with random velocity initial conditions\n",
    "grid = RectilinearGrid(size=(128, 128), extent=(2π, 2π), halo=(3, 3), topology=(Periodic, Bounded, Flat))\n",
    "model = NonhydrostaticModel(; grid, advection=WENO5(), coriolis=BetaPlane(f₀=1, β=20))\n",
    "ϵ(x, y, z) = 2rand() - 1\n",
    "set!(model, u=ϵ, v=ϵ)\n",
    "simulation = Simulation(model, Δt=0.02, stop_iteration=2000)"
   ],
   "metadata": {},
   "execution_count": null
  },
  {
   "cell_type": "markdown",
   "source": [
    "## Diagnostics: vorticity, speed, mean momentum, and enstrophy\n",
    "\n",
    "We build some diagnostics so we have data to plot:"
   ],
   "metadata": {}
  },
  {
   "outputs": [],
   "cell_type": "code",
   "source": [
    "# Vorticity\n",
    "u, v, w = model.velocities\n",
    "ζ = compute!(Field(∂x(v) - ∂y(u)))\n",
    "xζ, yζ, zζ = nodes(ζ)\n",
    "\n",
    "# Speed\n",
    "s_op = @at (Center, Center, Center) sqrt(u^2 + v^2)\n",
    "s = compute!(Field(s_op))\n",
    "xs, ys, zs = nodes(s)\n",
    "\n",
    "# Zonal-averaged enstrophy and momentum\n",
    "Z = Field(Average(ζ^2, dims=1))\n",
    "U = Field(Average(u, dims=1))\n",
    "compute!(Z)\n",
    "compute!(U)"
   ],
   "metadata": {},
   "execution_count": null
  },
  {
   "cell_type": "markdown",
   "source": [
    "Tiny note about Oceananigans syntax: the objects `ζ`, `s`, `Z`, and `U` are\n",
    "Oceananigans `Field`s. We extract data from these objects with the function\n",
    "`interior`, which you'll find peppered throughout the code below.\n",
    "`interior` `view` into the data underlying a `Field`. For example,"
   ],
   "metadata": {}
  },
  {
   "outputs": [],
   "cell_type": "code",
   "source": [
    "typeof(interior(ζ, :, :, 1))"
   ],
   "metadata": {},
   "execution_count": null
  },
  {
   "cell_type": "markdown",
   "source": [
    "returns a two-dimensional $(x, y)$ view into the vorticity at indices `(:, :, 1)`\n",
    "(and there's only one vertical index in this problem)."
   ],
   "metadata": {}
  },
  {
   "cell_type": "markdown",
   "source": [
    "# Animation demo\n",
    "\n",
    "Next we\n",
    "\n",
    "1. Create a simple figure with a layout\n",
    "2. Illustrate how to update the figure data dynamically as a simulation runs\n",
    "3. Run a simulation, save the data, and create an interactive visualization in post-processing\n",
    "\n",
    "## Create a simple layouted figure\n",
    "\n",
    "Here we plot the initial condition in a `Figure` with 4 `Axis`:"
   ],
   "metadata": {}
  },
  {
   "outputs": [],
   "cell_type": "code",
   "source": [
    "# Create a figure with layout\n",
    "fig = Figure(resolution=(1200, 1200))\n",
    "\n",
    "ax_ζ = Axis(fig[1, 1], xlabel=\"x\", ylabel=\"y\", title=\"Vorticity\", aspect=1)\n",
    "ax_s = Axis(fig[2, 1], xlabel=\"x\", ylabel=\"y\", title=\"Speed\", aspect=1)\n",
    "ax_Z = Axis(fig[1, 2], xlabel=\"Zonally-averaged enstrophy\", ylabel=\"y\")\n",
    "ax_U = Axis(fig[2, 2], xlabel=\"Zonally-averaged zontal momentum\", ylabel=\"y\")\n",
    "\n",
    "lbl = Label(fig[0, :], \"Barotropic turbulence at t = 0\")\n",
    "\n",
    "hm_ζ = heatmap!(ax_ζ, xζ, yζ, interior(ζ, :, :, 1), colormap=:redblue)\n",
    "hm_s = heatmap!(ax_s, xs, ys, interior(s, :, :, 1))\n",
    "ln_Z = lines!(ax_Z, interior(Z, 1, :, 1), yζ)\n",
    "ln_U = lines!(ax_U, interior(U, 1, :, 1), ys)\n",
    "\n",
    "xlims!(ax_U, -0.1, 0.1)\n",
    "xlims!(ax_Z, 0.0, 10.0)\n",
    "\n",
    "save(\"barotropic_turbulence_vorticity_speed.png\", fig)\n",
    "display(fig)"
   ],
   "metadata": {},
   "execution_count": null
  },
  {
   "cell_type": "markdown",
   "source": [
    "## Update a plot live while a simulation runs"
   ],
   "metadata": {}
  },
  {
   "outputs": [],
   "cell_type": "code",
   "source": [
    "\"\"\"\n",
    "    update!(sim)\n",
    "\n",
    "Update plot objects `lbl`, `hm_ζ`, `hm_s`, `ln_Z`, and `ln_U` with current data.\n",
    "\"\"\"\n",
    "function update!(sim)\n",
    "    # Update the label text to the current time\n",
    "    lbl.text[] = @sprintf(\"Barotropic turbulence at t = %.2f\", time(sim))\n",
    "\n",
    "    # `compute!` and update the vorticity and speed heatmaps.\n",
    "    # Note that the vorticity and speed are the \"third\" argument to `heatmap!` above\n",
    "    hm_ζ.input_args[3][] = interior(compute!(ζ), :, :, 1)\n",
    "    hm_s.input_args[3][] = interior(compute!(s), :, :, 1)\n",
    "\n",
    "    # `compute!` and update the enstrophy and momentum\n",
    "    compute!(Z); compute!(U)\n",
    "    ln_Z.input_args[1][] = interior(Z, 1, :, 1)\n",
    "    ln_U.input_args[1][] = interior(U, 1, :, 1)\n",
    "\n",
    "    return nothing\n",
    "end\n",
    "\n",
    "simulation.callbacks[:plot] = Callback(update!, IterationInterval(10))\n",
    "\n",
    "run!(simulation)"
   ],
   "metadata": {},
   "execution_count": null
  },
  {
   "cell_type": "markdown",
   "source": [
    "## Using `Slider` to create an interactive visualization in post-processing\n",
    "\n",
    "First we re-run the simulation, saving `ζ`, `s`, `Z`, and `U`:"
   ],
   "metadata": {}
  },
  {
   "outputs": [],
   "cell_type": "code",
   "source": [
    "reset!(simulation) # back to time=0, iteration=0\n",
    "set!(model, u=ϵ, v=ϵ)\n",
    "simulation.stop_iteration = 1000\n",
    "simulation.output_writers[:fields] = JLD2OutputWriter(model, (; ζ, s, Z, U),\n",
    "                                                      schedule = IterationInterval(10),\n",
    "                                                      prefix = \"barotropic_turbulence\",\n",
    "                                                      force = true)\n",
    "\n",
    "run!(simulation)"
   ],
   "metadata": {},
   "execution_count": null
  },
  {
   "cell_type": "markdown",
   "source": [
    "Next we load the data"
   ],
   "metadata": {}
  },
  {
   "outputs": [],
   "cell_type": "code",
   "source": [
    "filename = \"barotropic_turbulence.jld2\"\n",
    "\n",
    "ζ_ts = FieldTimeSeries(filename, \"ζ\")\n",
    "s_ts = FieldTimeSeries(filename, \"s\")\n",
    "Z_ts = FieldTimeSeries(filename, \"Z\")\n",
    "U_ts = FieldTimeSeries(filename, \"U\")\n",
    "\n",
    "Nt = length(ζ_ts.times)"
   ],
   "metadata": {},
   "execution_count": null
  },
  {
   "cell_type": "markdown",
   "source": [
    "and create a figure"
   ],
   "metadata": {}
  },
  {
   "outputs": [],
   "cell_type": "code",
   "source": [
    "fig = Figure(resolution=(1000, 1200))\n",
    "\n",
    "lay_ζ   = fig[1, 2:4] = GridLayout() # heatmap\n",
    "lay_s   = fig[2, 2:4] = GridLayout() # heatmap\n",
    "lay_Z   = fig[1, 5] = GridLayout() # lines\n",
    "lay_U   = fig[2, 5] = GridLayout() # lines\n",
    "lay_ζcb = fig[2, 1] = GridLayout() # Colorbar\n",
    "lay_scb = fig[1, 1] = GridLayout() # Colorbar\n",
    "lay_sl  = fig[3, :] = GridLayout() # Slider\n",
    "lay_lbl = fig[0, :] = GridLayout() # Label\n",
    "\n",
    "ax_ζ = Axis(lay_ζ[1, 1], xlabel=\"x\", ylabel=\"y\", aspect=1)\n",
    "ax_s = Axis(lay_s[1, 1], xlabel=\"x\", ylabel=\"y\", aspect=1)\n",
    "ax_Z = Axis(lay_Z[1, 1], xlabel=\"x-averaged enstrophy\", ylabel=\"y\")\n",
    "ax_U = Axis(lay_U[1, 1], xlabel=\"x-averaged x-momentum\", ylabel=\"y\")"
   ],
   "metadata": {},
   "execution_count": null
  },
  {
   "cell_type": "markdown",
   "source": [
    "with a `Slider`"
   ],
   "metadata": {}
  },
  {
   "outputs": [],
   "cell_type": "code",
   "source": [
    "slider = Slider(lay_sl[1, 1], range=1:Nt, startvalue=1)\n",
    "n = slider.value\n",
    "#n = Observable(1) # This works too if we don't need a slider"
   ],
   "metadata": {},
   "execution_count": null
  },
  {
   "cell_type": "markdown",
   "source": [
    "We construct `Observable` data in terms of the time index `n`:"
   ],
   "metadata": {}
  },
  {
   "outputs": [],
   "cell_type": "code",
   "source": [
    "ζn = @lift interior(ζ_ts[$n], :, :, 1)\n",
    "sn = @lift interior(s_ts[$n], :, :, 1)\n",
    "Zn = @lift interior(Z_ts[$n], 1, :, 1)\n",
    "Un = @lift interior(U_ts[$n], 1, :, 1)"
   ],
   "metadata": {},
   "execution_count": null
  },
  {
   "cell_type": "markdown",
   "source": [
    "and also construct a dynamic colorrange for `ζ` that smoothly varies\n",
    "according to a moving average of `maximum(abs, ζ)`,"
   ],
   "metadata": {}
  },
  {
   "outputs": [],
   "cell_type": "code",
   "source": [
    "Navg = 30\n",
    "ζlims = @lift begin\n",
    "    if $n > Nt - Navg\n",
    "        ζmax = maximum(abs, ζ_ts[$n])\n",
    "        ζlim = ζmax / 2\n",
    "    else\n",
    "        ζmax = mean(maximum(abs, ζ_ts[nn]) for nn in $n:$n+Navg-1)\n",
    "        ζlim = ζmax / 2\n",
    "    end\n",
    "    (-ζlim, ζlim)\n",
    "end\n",
    "\n",
    "smax = maximum(abs, interior(s_ts))"
   ],
   "metadata": {},
   "execution_count": null
  },
  {
   "cell_type": "markdown",
   "source": [
    "Sometimes we can have nice things (when they work).\n",
    "\n",
    "Finally we build the plot,"
   ],
   "metadata": {}
  },
  {
   "outputs": [],
   "cell_type": "code",
   "source": [
    "hm_ζ = heatmap!(ax_ζ, xζ, yζ, ζn, colormap=:redblue, colorrange=ζlims)\n",
    "hm_s = heatmap!(ax_s, xs, ys, sn, colorrange=(0, smax/2))\n",
    "\n",
    "lines!(ax_Z, Zn, yζ)\n",
    "lines!(ax_U, Un, ys)\n",
    "\n",
    "xlims!(ax_U, -0.15, 0.15)\n",
    "\n",
    "cb_ζ = Colorbar(lay_ζcb[1, 1], hm_s, label=\"Speed\", flipaxis=false)\n",
    "cb_s = Colorbar(lay_scb[1, 1], hm_ζ, label=\"Vorticity\", flipaxis=false)\n",
    "\n",
    "title = @lift \"Barotropic turbulence at t = \" * string(ζ_ts.times[$n])\n",
    "lbl = Label(lay_lbl[1, 1], title)\n",
    "\n",
    "display(fig)"
   ],
   "metadata": {},
   "execution_count": null
  },
  {
   "cell_type": "markdown",
   "source": [
    "Even after we play with the data, we can still launch `record` to update\n",
    "`slider.value` and compile frames into an animation,"
   ],
   "metadata": {}
  },
  {
   "outputs": [],
   "cell_type": "code",
   "source": [
    "record(fig, \"barotropic_turbulence_offline.mp4\", 1:100, framerate=24) do nn\n",
    "    n[] = nn\n",
    "    Zmax = maximum(Z_ts[nn])\n",
    "    xlims!(ax_Z, -Zmax/10, 2Zmax)\n",
    "end"
   ],
   "metadata": {},
   "execution_count": null
  },
  {
   "cell_type": "markdown",
   "source": [
    "---\n",
    "\n",
    "*This notebook was generated using [Literate.jl](https://github.com/fredrikekre/Literate.jl).*"
   ],
   "metadata": {}
  }
 ],
 "nbformat_minor": 3,
 "metadata": {
  "language_info": {
   "file_extension": ".jl",
   "mimetype": "application/julia",
   "name": "julia",
   "version": "1.6.5"
  },
  "kernelspec": {
   "name": "julia-1.6",
   "display_name": "Julia 1.6.5",
   "language": "julia"
  }
 },
 "nbformat": 4
}
